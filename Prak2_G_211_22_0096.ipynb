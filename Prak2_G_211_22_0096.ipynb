{
  "nbformat": 4,
  "nbformat_minor": 0,
  "metadata": {
    "colab": {
      "provenance": []
    },
    "kernelspec": {
      "name": "python3",
      "display_name": "Python 3"
    },
    "language_info": {
      "name": "python"
    }
  },
  "cells": [
    {
      "cell_type": "code",
      "execution_count": 2,
      "metadata": {
        "colab": {
          "base_uri": "https://localhost:8080/"
        },
        "id": "845-emG0Fu00",
        "outputId": "7d7fbd25-d135-40cf-fece-3b103ec764a7"
      },
      "outputs": [
        {
          "output_type": "stream",
          "name": "stdout",
          "text": [
            "\n",
            "Data Mahasiswa (Dictionary):\n",
            "NIM: G.211.22.0096\n",
            "Nama: Naufal Irwan Pradana\n",
            "Usia: 19\n"
          ]
        }
      ],
      "source": [
        "# Dictionary\n",
        "mahasiswa_dict = {\"NIM\": \"G.211.22.0096\", \"Nama\": \"Naufal Irwan Pradana\", \"Usia\": 19}\n",
        "\n",
        "# Mengakses nilai Dictionary\n",
        "nim_dict = mahasiswa_dict[\"NIM\"]\n",
        "nama_dict = mahasiswa_dict[\"Nama\"]\n",
        "usia_dict = mahasiswa_dict[\"Usia\"]\n",
        "\n",
        "# Menampilkan informasi mahasiswa dari Dictionary\n",
        "print(\"\\nData Mahasiswa (Dictionary):\")\n",
        "print(\"NIM:\", nim_dict)\n",
        "print(\"Nama:\", nama_dict)\n",
        "print(\"Usia:\", usia_dict)"
      ]
    }
  ]
}